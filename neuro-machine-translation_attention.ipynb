{
 "cells": [
  {
   "cell_type": "code",
   "execution_count": 1,
   "metadata": {},
   "outputs": [
    {
     "name": "stderr",
     "output_type": "stream",
     "text": [
      "Using TensorFlow backend.\n"
     ]
    }
   ],
   "source": [
    "import os, sys\n",
    "\n",
    "from keras.models import Model\n",
    "from keras.layers import Input, LSTM, GRU, Dense, Embedding,Bidirectional,RepeatVector, Concatenate, Activation, Dot, Lambda\n",
    "from keras.preprocessing.text import Tokenizer\n",
    "from keras.preprocessing.sequence import pad_sequences\n",
    "from keras.utils import to_categorical\n",
    "import numpy as np\n",
    "import matplotlib.pyplot as plt\n",
    "import keras.backend as K"
   ]
  },
  {
   "cell_type": "code",
   "execution_count": 2,
   "metadata": {},
   "outputs": [],
   "source": [
    "BATCH_SIZE = 64\n",
    "EPOCHS = 40  \n",
    "LATENT_DIM = 512\n",
    "LATENT_DIM_DECODER = 512 \n",
    "NUM_SAMPLES = 20000  \n",
    "MAX_NUM_WORDS = 20000\n",
    "MAX_SEQUENCE_LENGTH = 100\n",
    "EMBEDDING_DIM = 200"
   ]
  },
  {
   "cell_type": "code",
   "execution_count": 20,
   "metadata": {},
   "outputs": [],
   "source": [
    "def softmax_over_time(x):\n",
    "    assert(K.ndim(x)>2)\n",
    "    e = K.exp(x - K.max(x, axis=1, keepdims=True))\n",
    "    s = K.sum(e, axis=1, keepdims=True)\n",
    "    return e / s"
   ]
  },
  {
   "cell_type": "markdown",
   "metadata": {},
   "source": [
    "Data Loading"
   ]
  },
  {
   "cell_type": "code",
   "execution_count": 3,
   "metadata": {},
   "outputs": [
    {
     "name": "stdout",
     "output_type": "stream",
     "text": [
      "Have fun.\n",
      "যাও। <eos>\n",
      "<sos> যাও।\n",
      "4349\n"
     ]
    }
   ],
   "source": [
    "input_texts=[]\n",
    "target_texts=[]\n",
    "target_texts_inputs=[]\n",
    "t=0\n",
    "for line in open('ben.txt',encoding=\"utf-8\"):\n",
    "    t+=1\n",
    "    if t>NUM_SAMPLES:\n",
    "        break\n",
    "    if '\\t' not in line:\n",
    "        continue\n",
    "    # split up the input and translation\n",
    "    input_text,translation,_=line.rstrip().split('\\t')\n",
    "    target_text=translation + ' <eos>'\n",
    "    target_text_input='<sos> ' + translation\n",
    "    \n",
    "    \n",
    "    input_texts.append(input_text)\n",
    "    target_texts.append(target_text)\n",
    "    target_texts_inputs.append(target_text_input)\n",
    "\n",
    "    \n",
    "print(input_texts[152])\n",
    "print(target_texts[0])\n",
    "print(target_texts_inputs[0])\n",
    "print(t)\n",
    "    \n",
    "    \n",
    "    "
   ]
  },
  {
   "cell_type": "markdown",
   "metadata": {},
   "source": [
    "Tokenize the inputs"
   ]
  },
  {
   "cell_type": "code",
   "execution_count": 4,
   "metadata": {},
   "outputs": [
    {
     "name": "stdout",
     "output_type": "stream",
     "text": [
      "[19, 421]\n"
     ]
    }
   ],
   "source": [
    "tokenizer_input=Tokenizer(num_words=MAX_NUM_WORDS)\n",
    "tokenizer_input.fit_on_texts(input_texts)\n",
    "input_sequences=tokenizer_input.texts_to_sequences(input_texts)\n",
    "print(input_sequences[152])"
   ]
  },
  {
   "cell_type": "code",
   "execution_count": 5,
   "metadata": {},
   "outputs": [
    {
     "data": {
      "text/plain": [
       "[[31, 243, 53, 32, 88]]"
      ]
     },
     "execution_count": 5,
     "metadata": {},
     "output_type": "execute_result"
    }
   ],
   "source": [
    "tokenizer_input.texts_to_sequences([\"She knows where we live\"])"
   ]
  },
  {
   "cell_type": "code",
   "execution_count": 6,
   "metadata": {},
   "outputs": [
    {
     "name": "stdout",
     "output_type": "stream",
     "text": [
      "Found 1875 unique input tokens.\n"
     ]
    },
    {
     "data": {
      "text/plain": [
       "6"
      ]
     },
     "execution_count": 6,
     "metadata": {},
     "output_type": "execute_result"
    }
   ],
   "source": [
    "word2idx_inputs=tokenizer_input.word_index\n",
    "print('Found %s unique input tokens.' % len(word2idx_inputs))\n",
    "word2idx_inputs['the']"
   ]
  },
  {
   "cell_type": "code",
   "execution_count": 7,
   "metadata": {},
   "outputs": [
    {
     "data": {
      "text/plain": [
       "19"
      ]
     },
     "execution_count": 7,
     "metadata": {},
     "output_type": "execute_result"
    }
   ],
   "source": [
    "max_len_input = max(len(s) for s in input_sequences)\n",
    "max_len_input"
   ]
  },
  {
   "cell_type": "code",
   "execution_count": 8,
   "metadata": {},
   "outputs": [
    {
     "name": "stdout",
     "output_type": "stream",
     "text": [
      "[167, 1]\n",
      "[2, 167]\n"
     ]
    }
   ],
   "source": [
    "tokenizer_output=Tokenizer(num_words=MAX_NUM_WORDS,filters='')\n",
    "tokenizer_output.fit_on_texts(target_texts+target_texts_inputs)\n",
    "target_sequences=tokenizer_output.texts_to_sequences(target_texts)\n",
    "target_inputs_sequences=tokenizer_output.texts_to_sequences(target_texts_inputs)\n",
    "print(target_sequences[0])\n",
    "print(target_inputs_sequences[0])"
   ]
  },
  {
   "cell_type": "code",
   "execution_count": 9,
   "metadata": {},
   "outputs": [
    {
     "name": "stdout",
     "output_type": "stream",
     "text": [
      "Found 3551 unique output tokens.\n"
     ]
    }
   ],
   "source": [
    "word2idx_output = tokenizer_output.word_index\n",
    "print('Found %s unique output tokens.' % len(word2idx_output))"
   ]
  },
  {
   "cell_type": "code",
   "execution_count": 10,
   "metadata": {},
   "outputs": [
    {
     "data": {
      "text/plain": [
       "19"
      ]
     },
     "execution_count": 10,
     "metadata": {},
     "output_type": "execute_result"
    }
   ],
   "source": [
    "num_words_output = len(word2idx_output) + 1\n",
    "max_len_target = max(len(s) for s in target_sequences)\n",
    "max_len_target"
   ]
  },
  {
   "cell_type": "markdown",
   "metadata": {},
   "source": [
    "Pad the sequnces"
   ]
  },
  {
   "cell_type": "code",
   "execution_count": 11,
   "metadata": {},
   "outputs": [
    {
     "name": "stdout",
     "output_type": "stream",
     "text": [
      "encoder_inputs.shape: (4349, 19)\n"
     ]
    },
    {
     "data": {
      "text/plain": [
       "array([ 0,  0,  0,  0,  0,  0,  0,  0,  0,  0,  0,  0,  0,  0,  0,  0,  0,\n",
       "        0, 28])"
      ]
     },
     "execution_count": 11,
     "metadata": {},
     "output_type": "execute_result"
    }
   ],
   "source": [
    "encoder_inputs=pad_sequences(input_sequences,max_len_input)\n",
    "print(\"encoder_inputs.shape:\", encoder_inputs.shape)\n",
    "encoder_inputs[0]"
   ]
  },
  {
   "cell_type": "code",
   "execution_count": 12,
   "metadata": {},
   "outputs": [
    {
     "name": "stdout",
     "output_type": "stream",
     "text": [
      "decoder_inputs.shape: (4349, 19)\n"
     ]
    }
   ],
   "source": [
    "decoder_inputs = pad_sequences(target_inputs_sequences, maxlen=max_len_target, padding='post')\n",
    "print(\"decoder_inputs.shape:\", decoder_inputs.shape)\n",
    "\n",
    "decoder_targets = pad_sequences(target_sequences, maxlen=max_len_target, padding='post')"
   ]
  },
  {
   "cell_type": "code",
   "execution_count": 13,
   "metadata": {},
   "outputs": [
    {
     "name": "stdout",
     "output_type": "stream",
     "text": [
      "Loading word vectors...\n",
      "Found 400000 word vectors.\n"
     ]
    }
   ],
   "source": [
    "print('Loading word vectors...')\n",
    "word2vec={}\n",
    "with open(r'D:\\udemy\\glove.6B.200d.txt',encoding=\"utf-8\") as f:\n",
    "    for line in f:\n",
    "        values=line.split()\n",
    "        word=values[0]\n",
    "        vec=np.asarray(values[1:],dtype='float32')\n",
    "        word2vec[word]=vec\n",
    "print('Found %s word vectors.' % len(word2vec))        "
   ]
  },
  {
   "cell_type": "code",
   "execution_count": 14,
   "metadata": {},
   "outputs": [
    {
     "name": "stdout",
     "output_type": "stream",
     "text": [
      "Filling pre-trained embeddings...\n"
     ]
    }
   ],
   "source": [
    "print('Filling pre-trained embeddings...')\n",
    "num_words = min(MAX_NUM_WORDS, len(word2idx_inputs) + 1)\n",
    "embedding_matrix = np.zeros((num_words, EMBEDDING_DIM))\n",
    "for word, i in word2idx_inputs.items():\n",
    "  if i < MAX_NUM_WORDS:\n",
    "    embedding_vector = word2vec.get(word)\n",
    "    if embedding_vector is not None:\n",
    "      # words not found in embedding index will be all zeros.\n",
    "      embedding_matrix[i] = embedding_vector"
   ]
  },
  {
   "cell_type": "markdown",
   "metadata": {},
   "source": [
    "creation of  embedding layer"
   ]
  },
  {
   "cell_type": "code",
   "execution_count": 15,
   "metadata": {},
   "outputs": [],
   "source": [
    "embedding_layer=Embedding(num_words,EMBEDDING_DIM,weights=[embedding_matrix],input_length=max_len_input)\n"
   ]
  },
  {
   "cell_type": "markdown",
   "metadata": {},
   "source": [
    "One hot encoding the targets"
   ]
  },
  {
   "cell_type": "code",
   "execution_count": 16,
   "metadata": {},
   "outputs": [],
   "source": [
    "decoder_targets_one_hot = np.zeros(\n",
    "  (\n",
    "    len(input_texts),\n",
    "    max_len_target,\n",
    "    num_words_output\n",
    "  ),\n",
    "  dtype='float32'\n",
    ")\n",
    "\n",
    "# assign the values\n",
    "for i, d in enumerate(decoder_targets):\n",
    "  for t, word in enumerate(d):\n",
    "    if word != 0:\n",
    "      decoder_targets_one_hot[i, t, word] = 1"
   ]
  },
  {
   "cell_type": "code",
   "execution_count": 17,
   "metadata": {},
   "outputs": [
    {
     "data": {
      "text/plain": [
       "0.0"
      ]
     },
     "execution_count": 17,
     "metadata": {},
     "output_type": "execute_result"
    }
   ],
   "source": [
    "decoder_targets_one_hot[0,3,4]"
   ]
  },
  {
   "cell_type": "markdown",
   "metadata": {},
   "source": [
    "Model building"
   ]
  },
  {
   "cell_type": "code",
   "execution_count": 28,
   "metadata": {},
   "outputs": [],
   "source": [
    "encoder_input=Input(shape=(max_len_input,))\n",
    "x=embedding_layer(encoder_input)\n",
    "encoder=Bidirectional(LSTM(LATENT_DIM,return_sequences=True,dropout=0.5))\n",
    "encoder_outputs=encoder(x)\n",
    "\n",
    "decoder_input=Input(shape=(max_len_target,))\n",
    "decoder_embedding=Embedding(num_words_output,EMBEDDING_DIM)\n",
    "decoder_input_x=decoder_embedding(decoder_input)"
   ]
  },
  {
   "cell_type": "markdown",
   "metadata": {},
   "source": [
    "Attention Layer"
   ]
  },
  {
   "cell_type": "code",
   "execution_count": 29,
   "metadata": {},
   "outputs": [],
   "source": [
    "attn_repeat_layer=RepeatVector(max_len_input)\n",
    "attn_concat_layer=Concatenate(axis=-1)\n",
    "attn_dense_1=Dense(16,activation='tanh')\n",
    "attn_dense_2=Dense(1,activation=softmax_over_time)\n",
    "attn_dot=Dot(axes=1)\n"
   ]
  },
  {
   "cell_type": "code",
   "execution_count": 30,
   "metadata": {},
   "outputs": [],
   "source": [
    "def one_step_attention(h,st_1):\n",
    "    \n",
    "    st_1=attn_repeat_layer(st_1)\n",
    "    x=attn_concat_layer([h,st_1])\n",
    "    x=attn_dense_1(x)\n",
    "    x=attn_dense_2(x)\n",
    "    context=attn_dot([x,h])\n",
    "    \n",
    "    return context"
   ]
  },
  {
   "cell_type": "markdown",
   "metadata": {},
   "source": [
    "Deocder Architecture"
   ]
  },
  {
   "cell_type": "code",
   "execution_count": 31,
   "metadata": {},
   "outputs": [],
   "source": [
    "decoder_lstm=LSTM(LATENT_DIM_DECODER,return_state=True)\n",
    "decoder_dense=Dense(num_words_output,activation='softmax')\n",
    "\n",
    "initial_s = Input(shape=(LATENT_DIM_DECODER,), name='s0')\n",
    "initial_c = Input(shape=(LATENT_DIM_DECODER,), name='c0')\n",
    "context_last_word_concat_layer = Concatenate(axis=2)\n",
    "\n",
    "\n",
    "s=initial_s\n",
    "c=initial_c\n",
    "\n",
    "outputs=[]\n",
    "\n",
    "for t in range(max_len_target):\n",
    "    context=one_step_attention(encoder_outputs,s)\n",
    "    selector = Lambda(lambda x: x[:, t:t+1])\n",
    "    xt = selector(decoder_input_x)\n",
    "    decoder_lstm_input=context_last_word_concat_layer([context,xt])\n",
    "    o,s,c=decoder_lstm(decoder_lstm_input,initial_state=[s,c])\n",
    "    decoder_outputs=decoder_dense(o)\n",
    "    outputs.append(decoder_outputs)"
   ]
  },
  {
   "cell_type": "code",
   "execution_count": 32,
   "metadata": {},
   "outputs": [],
   "source": [
    "def stack_and_transpose(x):\n",
    "  x = K.stack(x) \n",
    "  x = K.permute_dimensions(x, pattern=(1, 0, 2)) \n",
    "  return x"
   ]
  },
  {
   "cell_type": "code",
   "execution_count": 33,
   "metadata": {},
   "outputs": [],
   "source": [
    "stacker=Lambda(stack_and_transpose)\n",
    "outputs=stacker(outputs)"
   ]
  },
  {
   "cell_type": "code",
   "execution_count": 35,
   "metadata": {},
   "outputs": [],
   "source": [
    "model = Model(\n",
    "  inputs=[\n",
    "    encoder_input,\n",
    "    decoder_input,\n",
    "    initial_s, \n",
    "    initial_c,\n",
    "  ],\n",
    "  outputs=outputs\n",
    ")"
   ]
  },
  {
   "cell_type": "code",
   "execution_count": 36,
   "metadata": {},
   "outputs": [
    {
     "name": "stdout",
     "output_type": "stream",
     "text": [
      "Model: \"model_1\"\n",
      "__________________________________________________________________________________________________\n",
      "Layer (type)                    Output Shape         Param #     Connected to                     \n",
      "==================================================================================================\n",
      "input_3 (InputLayer)            (None, 19)           0                                            \n",
      "__________________________________________________________________________________________________\n",
      "embedding_1 (Embedding)         (None, 19, 200)      375200      input_3[0][0]                    \n",
      "__________________________________________________________________________________________________\n",
      "s0 (InputLayer)                 (None, 512)          0                                            \n",
      "__________________________________________________________________________________________________\n",
      "bidirectional_2 (Bidirectional) (None, 19, 1024)     2920448     embedding_1[1][0]                \n",
      "__________________________________________________________________________________________________\n",
      "repeat_vector_2 (RepeatVector)  (None, 19, 512)      0           s0[0][0]                         \n",
      "                                                                 lstm_5[0][1]                     \n",
      "                                                                 lstm_5[1][1]                     \n",
      "                                                                 lstm_5[2][1]                     \n",
      "                                                                 lstm_5[3][1]                     \n",
      "                                                                 lstm_5[4][1]                     \n",
      "                                                                 lstm_5[5][1]                     \n",
      "                                                                 lstm_5[6][1]                     \n",
      "                                                                 lstm_5[7][1]                     \n",
      "                                                                 lstm_5[8][1]                     \n",
      "                                                                 lstm_5[9][1]                     \n",
      "                                                                 lstm_5[10][1]                    \n",
      "                                                                 lstm_5[11][1]                    \n",
      "                                                                 lstm_5[12][1]                    \n",
      "                                                                 lstm_5[13][1]                    \n",
      "                                                                 lstm_5[14][1]                    \n",
      "                                                                 lstm_5[15][1]                    \n",
      "                                                                 lstm_5[16][1]                    \n",
      "                                                                 lstm_5[17][1]                    \n",
      "__________________________________________________________________________________________________\n",
      "concatenate_4 (Concatenate)     (None, 19, 1536)     0           bidirectional_2[0][0]            \n",
      "                                                                 repeat_vector_2[0][0]            \n",
      "                                                                 bidirectional_2[0][0]            \n",
      "                                                                 repeat_vector_2[1][0]            \n",
      "                                                                 bidirectional_2[0][0]            \n",
      "                                                                 repeat_vector_2[2][0]            \n",
      "                                                                 bidirectional_2[0][0]            \n",
      "                                                                 repeat_vector_2[3][0]            \n",
      "                                                                 bidirectional_2[0][0]            \n",
      "                                                                 repeat_vector_2[4][0]            \n",
      "                                                                 bidirectional_2[0][0]            \n",
      "                                                                 repeat_vector_2[5][0]            \n",
      "                                                                 bidirectional_2[0][0]            \n",
      "                                                                 repeat_vector_2[6][0]            \n",
      "                                                                 bidirectional_2[0][0]            \n",
      "                                                                 repeat_vector_2[7][0]            \n",
      "                                                                 bidirectional_2[0][0]            \n",
      "                                                                 repeat_vector_2[8][0]            \n",
      "                                                                 bidirectional_2[0][0]            \n",
      "                                                                 repeat_vector_2[9][0]            \n",
      "                                                                 bidirectional_2[0][0]            \n",
      "                                                                 repeat_vector_2[10][0]           \n",
      "                                                                 bidirectional_2[0][0]            \n",
      "                                                                 repeat_vector_2[11][0]           \n",
      "                                                                 bidirectional_2[0][0]            \n",
      "                                                                 repeat_vector_2[12][0]           \n",
      "                                                                 bidirectional_2[0][0]            \n",
      "                                                                 repeat_vector_2[13][0]           \n",
      "                                                                 bidirectional_2[0][0]            \n",
      "                                                                 repeat_vector_2[14][0]           \n",
      "                                                                 bidirectional_2[0][0]            \n",
      "                                                                 repeat_vector_2[15][0]           \n",
      "                                                                 bidirectional_2[0][0]            \n",
      "                                                                 repeat_vector_2[16][0]           \n",
      "                                                                 bidirectional_2[0][0]            \n",
      "                                                                 repeat_vector_2[17][0]           \n",
      "                                                                 bidirectional_2[0][0]            \n",
      "                                                                 repeat_vector_2[18][0]           \n",
      "__________________________________________________________________________________________________\n",
      "dense_5 (Dense)                 (None, 19, 16)       24592       concatenate_4[0][0]              \n",
      "                                                                 concatenate_4[1][0]              \n",
      "                                                                 concatenate_4[2][0]              \n",
      "                                                                 concatenate_4[3][0]              \n",
      "                                                                 concatenate_4[4][0]              \n",
      "                                                                 concatenate_4[5][0]              \n",
      "                                                                 concatenate_4[6][0]              \n",
      "                                                                 concatenate_4[7][0]              \n",
      "                                                                 concatenate_4[8][0]              \n",
      "                                                                 concatenate_4[9][0]              \n",
      "                                                                 concatenate_4[10][0]             \n",
      "                                                                 concatenate_4[11][0]             \n",
      "                                                                 concatenate_4[12][0]             \n",
      "                                                                 concatenate_4[13][0]             \n",
      "                                                                 concatenate_4[14][0]             \n",
      "                                                                 concatenate_4[15][0]             \n",
      "                                                                 concatenate_4[16][0]             \n",
      "                                                                 concatenate_4[17][0]             \n",
      "                                                                 concatenate_4[18][0]             \n",
      "__________________________________________________________________________________________________\n",
      "input_4 (InputLayer)            (None, 19)           0                                            \n",
      "__________________________________________________________________________________________________\n",
      "dense_6 (Dense)                 (None, 19, 1)        17          dense_5[0][0]                    \n",
      "                                                                 dense_5[1][0]                    \n",
      "                                                                 dense_5[2][0]                    \n",
      "                                                                 dense_5[3][0]                    \n",
      "                                                                 dense_5[4][0]                    \n",
      "                                                                 dense_5[5][0]                    \n",
      "                                                                 dense_5[6][0]                    \n",
      "                                                                 dense_5[7][0]                    \n",
      "                                                                 dense_5[8][0]                    \n",
      "                                                                 dense_5[9][0]                    \n",
      "                                                                 dense_5[10][0]                   \n",
      "                                                                 dense_5[11][0]                   \n",
      "                                                                 dense_5[12][0]                   \n",
      "                                                                 dense_5[13][0]                   \n",
      "                                                                 dense_5[14][0]                   \n",
      "                                                                 dense_5[15][0]                   \n",
      "                                                                 dense_5[16][0]                   \n",
      "                                                                 dense_5[17][0]                   \n",
      "                                                                 dense_5[18][0]                   \n",
      "__________________________________________________________________________________________________\n",
      "embedding_3 (Embedding)         (None, 19, 200)      710400      input_4[0][0]                    \n",
      "__________________________________________________________________________________________________\n",
      "dot_2 (Dot)                     (None, 1, 1024)      0           dense_6[0][0]                    \n",
      "                                                                 bidirectional_2[0][0]            \n",
      "                                                                 dense_6[1][0]                    \n",
      "                                                                 bidirectional_2[0][0]            \n",
      "                                                                 dense_6[2][0]                    \n",
      "                                                                 bidirectional_2[0][0]            \n",
      "                                                                 dense_6[3][0]                    \n",
      "                                                                 bidirectional_2[0][0]            \n",
      "                                                                 dense_6[4][0]                    \n",
      "                                                                 bidirectional_2[0][0]            \n",
      "                                                                 dense_6[5][0]                    \n",
      "                                                                 bidirectional_2[0][0]            \n",
      "                                                                 dense_6[6][0]                    \n",
      "                                                                 bidirectional_2[0][0]            \n",
      "                                                                 dense_6[7][0]                    \n",
      "                                                                 bidirectional_2[0][0]            \n",
      "                                                                 dense_6[8][0]                    \n",
      "                                                                 bidirectional_2[0][0]            \n",
      "                                                                 dense_6[9][0]                    \n",
      "                                                                 bidirectional_2[0][0]            \n",
      "                                                                 dense_6[10][0]                   \n",
      "                                                                 bidirectional_2[0][0]            \n",
      "                                                                 dense_6[11][0]                   \n",
      "                                                                 bidirectional_2[0][0]            \n",
      "                                                                 dense_6[12][0]                   \n",
      "                                                                 bidirectional_2[0][0]            \n",
      "                                                                 dense_6[13][0]                   \n",
      "                                                                 bidirectional_2[0][0]            \n",
      "                                                                 dense_6[14][0]                   \n",
      "                                                                 bidirectional_2[0][0]            \n",
      "                                                                 dense_6[15][0]                   \n",
      "                                                                 bidirectional_2[0][0]            \n",
      "                                                                 dense_6[16][0]                   \n",
      "                                                                 bidirectional_2[0][0]            \n",
      "                                                                 dense_6[17][0]                   \n",
      "                                                                 bidirectional_2[0][0]            \n",
      "                                                                 dense_6[18][0]                   \n",
      "                                                                 bidirectional_2[0][0]            \n",
      "__________________________________________________________________________________________________\n",
      "lambda_22 (Lambda)              (None, 1, 200)       0           embedding_3[0][0]                \n",
      "__________________________________________________________________________________________________\n",
      "concatenate_5 (Concatenate)     (None, 1, 1224)      0           dot_2[0][0]                      \n",
      "                                                                 lambda_22[0][0]                  \n",
      "                                                                 dot_2[1][0]                      \n",
      "                                                                 lambda_23[0][0]                  \n",
      "                                                                 dot_2[2][0]                      \n",
      "                                                                 lambda_24[0][0]                  \n",
      "                                                                 dot_2[3][0]                      \n",
      "                                                                 lambda_25[0][0]                  \n",
      "                                                                 dot_2[4][0]                      \n",
      "                                                                 lambda_26[0][0]                  \n",
      "                                                                 dot_2[5][0]                      \n",
      "                                                                 lambda_27[0][0]                  \n",
      "                                                                 dot_2[6][0]                      \n",
      "                                                                 lambda_28[0][0]                  \n",
      "                                                                 dot_2[7][0]                      \n",
      "                                                                 lambda_29[0][0]                  \n",
      "                                                                 dot_2[8][0]                      \n",
      "                                                                 lambda_30[0][0]                  \n",
      "                                                                 dot_2[9][0]                      \n",
      "                                                                 lambda_31[0][0]                  \n",
      "                                                                 dot_2[10][0]                     \n",
      "                                                                 lambda_32[0][0]                  \n",
      "                                                                 dot_2[11][0]                     \n",
      "                                                                 lambda_33[0][0]                  \n",
      "                                                                 dot_2[12][0]                     \n",
      "                                                                 lambda_34[0][0]                  \n",
      "                                                                 dot_2[13][0]                     \n",
      "                                                                 lambda_35[0][0]                  \n",
      "                                                                 dot_2[14][0]                     \n",
      "                                                                 lambda_36[0][0]                  \n",
      "                                                                 dot_2[15][0]                     \n",
      "                                                                 lambda_37[0][0]                  \n",
      "                                                                 dot_2[16][0]                     \n",
      "                                                                 lambda_38[0][0]                  \n",
      "                                                                 dot_2[17][0]                     \n",
      "                                                                 lambda_39[0][0]                  \n",
      "                                                                 dot_2[18][0]                     \n",
      "                                                                 lambda_40[0][0]                  \n",
      "__________________________________________________________________________________________________\n",
      "c0 (InputLayer)                 (None, 512)          0                                            \n",
      "__________________________________________________________________________________________________\n",
      "lstm_5 (LSTM)                   [(None, 512), (None, 3557376     concatenate_5[0][0]              \n",
      "                                                                 s0[0][0]                         \n",
      "                                                                 c0[0][0]                         \n",
      "                                                                 concatenate_5[1][0]              \n",
      "                                                                 lstm_5[0][1]                     \n",
      "                                                                 lstm_5[0][2]                     \n",
      "                                                                 concatenate_5[2][0]              \n",
      "                                                                 lstm_5[1][1]                     \n",
      "                                                                 lstm_5[1][2]                     \n",
      "                                                                 concatenate_5[3][0]              \n",
      "                                                                 lstm_5[2][1]                     \n",
      "                                                                 lstm_5[2][2]                     \n",
      "                                                                 concatenate_5[4][0]              \n",
      "                                                                 lstm_5[3][1]                     \n",
      "                                                                 lstm_5[3][2]                     \n",
      "                                                                 concatenate_5[5][0]              \n",
      "                                                                 lstm_5[4][1]                     \n",
      "                                                                 lstm_5[4][2]                     \n",
      "                                                                 concatenate_5[6][0]              \n",
      "                                                                 lstm_5[5][1]                     \n",
      "                                                                 lstm_5[5][2]                     \n",
      "                                                                 concatenate_5[7][0]              \n",
      "                                                                 lstm_5[6][1]                     \n",
      "                                                                 lstm_5[6][2]                     \n",
      "                                                                 concatenate_5[8][0]              \n",
      "                                                                 lstm_5[7][1]                     \n",
      "                                                                 lstm_5[7][2]                     \n",
      "                                                                 concatenate_5[9][0]              \n",
      "                                                                 lstm_5[8][1]                     \n",
      "                                                                 lstm_5[8][2]                     \n",
      "                                                                 concatenate_5[10][0]             \n",
      "                                                                 lstm_5[9][1]                     \n",
      "                                                                 lstm_5[9][2]                     \n",
      "                                                                 concatenate_5[11][0]             \n",
      "                                                                 lstm_5[10][1]                    \n",
      "                                                                 lstm_5[10][2]                    \n",
      "                                                                 concatenate_5[12][0]             \n",
      "                                                                 lstm_5[11][1]                    \n",
      "                                                                 lstm_5[11][2]                    \n",
      "                                                                 concatenate_5[13][0]             \n",
      "                                                                 lstm_5[12][1]                    \n",
      "                                                                 lstm_5[12][2]                    \n",
      "                                                                 concatenate_5[14][0]             \n",
      "                                                                 lstm_5[13][1]                    \n",
      "                                                                 lstm_5[13][2]                    \n",
      "                                                                 concatenate_5[15][0]             \n",
      "                                                                 lstm_5[14][1]                    \n",
      "                                                                 lstm_5[14][2]                    \n",
      "                                                                 concatenate_5[16][0]             \n",
      "                                                                 lstm_5[15][1]                    \n",
      "                                                                 lstm_5[15][2]                    \n",
      "                                                                 concatenate_5[17][0]             \n",
      "                                                                 lstm_5[16][1]                    \n",
      "                                                                 lstm_5[16][2]                    \n",
      "                                                                 concatenate_5[18][0]             \n",
      "                                                                 lstm_5[17][1]                    \n",
      "                                                                 lstm_5[17][2]                    \n",
      "__________________________________________________________________________________________________\n",
      "lambda_23 (Lambda)              (None, 1, 200)       0           embedding_3[0][0]                \n",
      "__________________________________________________________________________________________________\n",
      "lambda_24 (Lambda)              (None, 1, 200)       0           embedding_3[0][0]                \n",
      "__________________________________________________________________________________________________\n",
      "lambda_25 (Lambda)              (None, 1, 200)       0           embedding_3[0][0]                \n",
      "__________________________________________________________________________________________________\n",
      "lambda_26 (Lambda)              (None, 1, 200)       0           embedding_3[0][0]                \n",
      "__________________________________________________________________________________________________\n",
      "lambda_27 (Lambda)              (None, 1, 200)       0           embedding_3[0][0]                \n",
      "__________________________________________________________________________________________________\n",
      "lambda_28 (Lambda)              (None, 1, 200)       0           embedding_3[0][0]                \n",
      "__________________________________________________________________________________________________\n",
      "lambda_29 (Lambda)              (None, 1, 200)       0           embedding_3[0][0]                \n",
      "__________________________________________________________________________________________________\n",
      "lambda_30 (Lambda)              (None, 1, 200)       0           embedding_3[0][0]                \n",
      "__________________________________________________________________________________________________\n",
      "lambda_31 (Lambda)              (None, 1, 200)       0           embedding_3[0][0]                \n",
      "__________________________________________________________________________________________________\n",
      "lambda_32 (Lambda)              (None, 1, 200)       0           embedding_3[0][0]                \n",
      "__________________________________________________________________________________________________\n",
      "lambda_33 (Lambda)              (None, 1, 200)       0           embedding_3[0][0]                \n",
      "__________________________________________________________________________________________________\n",
      "lambda_34 (Lambda)              (None, 1, 200)       0           embedding_3[0][0]                \n",
      "__________________________________________________________________________________________________\n",
      "lambda_35 (Lambda)              (None, 1, 200)       0           embedding_3[0][0]                \n",
      "__________________________________________________________________________________________________\n",
      "lambda_36 (Lambda)              (None, 1, 200)       0           embedding_3[0][0]                \n",
      "__________________________________________________________________________________________________\n",
      "lambda_37 (Lambda)              (None, 1, 200)       0           embedding_3[0][0]                \n",
      "__________________________________________________________________________________________________\n",
      "lambda_38 (Lambda)              (None, 1, 200)       0           embedding_3[0][0]                \n",
      "__________________________________________________________________________________________________\n",
      "lambda_39 (Lambda)              (None, 1, 200)       0           embedding_3[0][0]                \n",
      "__________________________________________________________________________________________________\n",
      "lambda_40 (Lambda)              (None, 1, 200)       0           embedding_3[0][0]                \n",
      "__________________________________________________________________________________________________\n",
      "dense_7 (Dense)                 (None, 3552)         1822176     lstm_5[0][0]                     \n",
      "                                                                 lstm_5[1][0]                     \n",
      "                                                                 lstm_5[2][0]                     \n",
      "                                                                 lstm_5[3][0]                     \n",
      "                                                                 lstm_5[4][0]                     \n",
      "                                                                 lstm_5[5][0]                     \n",
      "                                                                 lstm_5[6][0]                     \n",
      "                                                                 lstm_5[7][0]                     \n",
      "                                                                 lstm_5[8][0]                     \n",
      "                                                                 lstm_5[9][0]                     \n",
      "                                                                 lstm_5[10][0]                    \n",
      "                                                                 lstm_5[11][0]                    \n",
      "                                                                 lstm_5[12][0]                    \n",
      "                                                                 lstm_5[13][0]                    \n",
      "                                                                 lstm_5[14][0]                    \n",
      "                                                                 lstm_5[15][0]                    \n",
      "                                                                 lstm_5[16][0]                    \n",
      "                                                                 lstm_5[17][0]                    \n",
      "                                                                 lstm_5[18][0]                    \n",
      "__________________________________________________________________________________________________\n",
      "lambda_41 (Lambda)              (None, 19, 3552)     0           dense_7[0][0]                    \n",
      "                                                                 dense_7[1][0]                    \n",
      "                                                                 dense_7[2][0]                    \n",
      "                                                                 dense_7[3][0]                    \n",
      "                                                                 dense_7[4][0]                    \n",
      "                                                                 dense_7[5][0]                    \n",
      "                                                                 dense_7[6][0]                    \n",
      "                                                                 dense_7[7][0]                    \n",
      "                                                                 dense_7[8][0]                    \n",
      "                                                                 dense_7[9][0]                    \n",
      "                                                                 dense_7[10][0]                   \n",
      "                                                                 dense_7[11][0]                   \n",
      "                                                                 dense_7[12][0]                   \n",
      "                                                                 dense_7[13][0]                   \n",
      "                                                                 dense_7[14][0]                   \n",
      "                                                                 dense_7[15][0]                   \n",
      "                                                                 dense_7[16][0]                   \n",
      "                                                                 dense_7[17][0]                   \n",
      "                                                                 dense_7[18][0]                   \n",
      "==================================================================================================\n",
      "Total params: 9,410,209\n",
      "Trainable params: 9,410,209\n",
      "Non-trainable params: 0\n",
      "__________________________________________________________________________________________________\n"
     ]
    }
   ],
   "source": [
    "model.summary()"
   ]
  },
  {
   "cell_type": "code",
   "execution_count": 37,
   "metadata": {},
   "outputs": [],
   "source": [
    "def custom_loss(y_true, y_pred):\n",
    "  # both are of shape N x T x K\n",
    "  mask = K.cast(y_true > 0, dtype='float32')\n",
    "  out = mask * y_true * K.log(y_pred)\n",
    "  return -K.sum(out) / K.sum(mask)\n",
    "\n",
    "\n",
    "def acc(y_true, y_pred):\n",
    "  # both are of shape N x T x K\n",
    "  targ = K.argmax(y_true, axis=-1)\n",
    "  pred = K.argmax(y_pred, axis=-1)\n",
    "  correct = K.cast(K.equal(targ, pred), dtype='float32')\n",
    "\n",
    "  # 0 is padding, don't include those\n",
    "  mask = K.cast(K.greater(targ, 0), dtype='float32')\n",
    "  n_correct = K.sum(mask * correct)\n",
    "  n_total = K.sum(mask)\n",
    "  return n_correct / n_total"
   ]
  },
  {
   "cell_type": "code",
   "execution_count": 38,
   "metadata": {},
   "outputs": [],
   "source": [
    "model.compile(optimizer='adam', loss=custom_loss, metrics=[acc])"
   ]
  },
  {
   "cell_type": "code",
   "execution_count": 39,
   "metadata": {},
   "outputs": [
    {
     "name": "stdout",
     "output_type": "stream",
     "text": [
      "WARNING:tensorflow:From C:\\Users\\ARKA4\\Anaconda3\\lib\\site-packages\\tensorflow\\python\\ops\\math_ops.py:3066: to_int32 (from tensorflow.python.ops.math_ops) is deprecated and will be removed in a future version.\n",
      "Instructions for updating:\n",
      "Use tf.cast instead.\n",
      "WARNING:tensorflow:From C:\\Users\\ARKA4\\Anaconda3\\lib\\site-packages\\tensorflow\\python\\ops\\math_grad.py:102: div (from tensorflow.python.ops.math_ops) is deprecated and will be removed in a future version.\n",
      "Instructions for updating:\n",
      "Deprecated in favor of operator or tf.math.divide.\n",
      "Epoch 1/40\n",
      "4349/4349 [==============================] - 156s 36ms/step - loss: 6.1470 - acc: 0.2131\n",
      "Epoch 2/40\n",
      "4349/4349 [==============================] - 127s 29ms/step - loss: 5.2591 - acc: 0.2445\n",
      "Epoch 3/40\n",
      "4349/4349 [==============================] - 128s 29ms/step - loss: 4.7819 - acc: 0.2643\n",
      "Epoch 4/40\n",
      "4349/4349 [==============================] - 130s 30ms/step - loss: 4.3250 - acc: 0.2937\n",
      "Epoch 5/40\n",
      "4349/4349 [==============================] - 131s 30ms/step - loss: 3.9005 - acc: 0.3355\n",
      "Epoch 6/40\n",
      "4349/4349 [==============================] - 131s 30ms/step - loss: 3.4981 - acc: 0.3732\n",
      "Epoch 7/40\n",
      "4349/4349 [==============================] - 128s 29ms/step - loss: 3.1214 - acc: 0.4122\n",
      "Epoch 8/40\n",
      "4349/4349 [==============================] - 130s 30ms/step - loss: 2.7744 - acc: 0.4539\n",
      "Epoch 9/40\n",
      "4349/4349 [==============================] - 129s 30ms/step - loss: 2.4504 - acc: 0.4939\n",
      "Epoch 10/40\n",
      "4349/4349 [==============================] - 130s 30ms/step - loss: 2.1516 - acc: 0.5324\n",
      "Epoch 11/40\n",
      "4349/4349 [==============================] - 162s 37ms/step - loss: 1.8922 - acc: 0.5753\n",
      "Epoch 12/40\n",
      "4349/4349 [==============================] - 146s 34ms/step - loss: 1.6500 - acc: 0.6206\n",
      "Epoch 13/40\n",
      "4349/4349 [==============================] - 148s 34ms/step - loss: 1.4437 - acc: 0.6648\n",
      "Epoch 14/40\n",
      "4349/4349 [==============================] - 127s 29ms/step - loss: 1.2665 - acc: 0.7053\n",
      "Epoch 15/40\n",
      "4349/4349 [==============================] - 117s 27ms/step - loss: 1.1154 - acc: 0.7362\n",
      "Epoch 16/40\n",
      "4349/4349 [==============================] - 118s 27ms/step - loss: 0.9768 - acc: 0.7620\n",
      "Epoch 17/40\n",
      "4349/4349 [==============================] - 116s 27ms/step - loss: 0.8640 - acc: 0.7863\n",
      "Epoch 18/40\n",
      "4349/4349 [==============================] - 116s 27ms/step - loss: 0.7663 - acc: 0.8072\n",
      "Epoch 19/40\n",
      "4349/4349 [==============================] - 116s 27ms/step - loss: 0.6813 - acc: 0.8247\n",
      "Epoch 20/40\n",
      "4349/4349 [==============================] - 116s 27ms/step - loss: 0.6117 - acc: 0.8381\n",
      "Epoch 21/40\n",
      "4349/4349 [==============================] - 116s 27ms/step - loss: 0.5481 - acc: 0.8528\n",
      "Epoch 22/40\n",
      "4349/4349 [==============================] - 116s 27ms/step - loss: 0.4982 - acc: 0.8630\n",
      "Epoch 23/40\n",
      "4349/4349 [==============================] - 116s 27ms/step - loss: 0.4504 - acc: 0.8742\n",
      "Epoch 24/40\n",
      "4349/4349 [==============================] - 116s 27ms/step - loss: 0.4113 - acc: 0.8810\n",
      "Epoch 25/40\n",
      "4349/4349 [==============================] - 117s 27ms/step - loss: 0.3719 - acc: 0.8890\n",
      "Epoch 26/40\n",
      "4349/4349 [==============================] - 116s 27ms/step - loss: 0.3480 - acc: 0.8919\n",
      "Epoch 27/40\n",
      "4349/4349 [==============================] - 144s 33ms/step - loss: 0.3273 - acc: 0.8954\n",
      "Epoch 28/40\n",
      "4349/4349 [==============================] - 146s 34ms/step - loss: 0.3014 - acc: 0.9015\n",
      "Epoch 29/40\n",
      "4349/4349 [==============================] - 148s 34ms/step - loss: 0.2839 - acc: 0.9053\n",
      "Epoch 30/40\n",
      "4349/4349 [==============================] - 151s 35ms/step - loss: 0.2695 - acc: 0.9052\n",
      "Epoch 31/40\n",
      "4349/4349 [==============================] - 151s 35ms/step - loss: 0.2573 - acc: 0.9074\n",
      "Epoch 32/40\n",
      "4349/4349 [==============================] - 153s 35ms/step - loss: 0.2440 - acc: 0.9085\n",
      "Epoch 33/40\n",
      "4349/4349 [==============================] - 152s 35ms/step - loss: 0.2310 - acc: 0.9120\n",
      "Epoch 34/40\n",
      "4349/4349 [==============================] - 152s 35ms/step - loss: 0.2252 - acc: 0.9127\n",
      "Epoch 35/40\n",
      "4349/4349 [==============================] - 151s 35ms/step - loss: 0.2179 - acc: 0.9121\n",
      "Epoch 36/40\n",
      "4349/4349 [==============================] - 149s 34ms/step - loss: 0.2103 - acc: 0.9164\n",
      "Epoch 37/40\n",
      "4349/4349 [==============================] - 148s 34ms/step - loss: 0.2035 - acc: 0.9164\n",
      "Epoch 38/40\n",
      "4349/4349 [==============================] - 138s 32ms/step - loss: 0.2005 - acc: 0.9163\n",
      "Epoch 39/40\n",
      "4349/4349 [==============================] - 153s 35ms/step - loss: 0.1939 - acc: 0.9174\n",
      "Epoch 40/40\n",
      "4349/4349 [==============================] - 154s 35ms/step - loss: 0.1893 - acc: 0.9181\n"
     ]
    },
    {
     "data": {
      "text/plain": [
       "<keras.callbacks.callbacks.History at 0x1cd002b6a90>"
      ]
     },
     "execution_count": 39,
     "metadata": {},
     "output_type": "execute_result"
    }
   ],
   "source": [
    "z = np.zeros((len(encoder_inputs), LATENT_DIM_DECODER))\n",
    "model.fit([encoder_inputs, decoder_inputs,z,z], decoder_targets_one_hot,\n",
    "  batch_size=BATCH_SIZE,\n",
    "  epochs=EPOCHS,)"
   ]
  },
  {
   "cell_type": "markdown",
   "metadata": {},
   "source": [
    "Make Translations"
   ]
  },
  {
   "cell_type": "code",
   "execution_count": 40,
   "metadata": {},
   "outputs": [],
   "source": [
    "encoder_model=Model(encoder_input,encoder_outputs)\n",
    "\n",
    "\n",
    "encoder_outputs_as_inputs=Input(shape=(max_len_input,LATENT_DIM*2,))\n",
    "decoder_inputs_single=Input(shape=(1,))\n",
    "decoder_inputs_single_x=decoder_embedding(decoder_inputs_single)\n",
    "\n",
    "\n",
    "context=one_step_attention(encoder_outputs_as_inputs,initial_s)\n",
    "\n",
    "decoder_lstm_input=context_last_word_concat_layer([context,decoder_inputs_single_x])\n",
    "\n",
    "o,s,c=decoder_lstm(decoder_lstm_input,initial_state=[initial_s,initial_c])\n",
    "decoder_outputs=decoder_dense(o)\n",
    "\n",
    "\n",
    "\n",
    "decoder_model = Model(\n",
    "  inputs=[decoder_inputs_single,encoder_outputs_as_inputs,initial_s,initial_c], \n",
    "  outputs=[decoder_outputs,s,c]\n",
    ")\n"
   ]
  },
  {
   "cell_type": "code",
   "execution_count": 41,
   "metadata": {},
   "outputs": [],
   "source": [
    "idx2word_eng = {v:k for k, v in word2idx_inputs.items()}\n",
    "idx2word_trans = {v:k for k, v in word2idx_output.items()}"
   ]
  },
  {
   "cell_type": "code",
   "execution_count": 48,
   "metadata": {},
   "outputs": [],
   "source": [
    "\n",
    "def decode_sequence(input_seq):\n",
    "  \n",
    "  enc_out = encoder_model.predict(input_seq)\n",
    "\n",
    " \n",
    "  target_seq = np.zeros((1, 1))\n",
    "  \n",
    "\n",
    "  target_seq[0, 0] = word2idx_output['<sos>']\n",
    "\n",
    " \n",
    "  eos = word2idx_output['<eos>']\n",
    "\n",
    "\n",
    " \n",
    "  s = np.zeros((1, LATENT_DIM_DECODER))\n",
    "  c = np.zeros((1, LATENT_DIM_DECODER))\n",
    "\n",
    "\n",
    "  # Create the translation\n",
    "  output_sentence = []\n",
    "  for _ in range(max_len_target):\n",
    "    o, s, c = decoder_model.predict([target_seq, enc_out, s, c])\n",
    "        \n",
    "\n",
    "    # Get next word\n",
    "    idx = np.argmax(o.flatten())\n",
    "\n",
    "    # End sentence of EOS\n",
    "    if eos == idx:\n",
    "      break\n",
    "\n",
    "    word = ''\n",
    "    if idx > 0:\n",
    "      word = idx2word_trans[idx]\n",
    "      output_sentence.append(word)\n",
    "\n",
    "  \n",
    "   \n",
    "    target_seq[0, 0] = idx\n",
    "\n",
    "  return ' '.join(output_sentence)"
   ]
  },
  {
   "cell_type": "code",
   "execution_count": 90,
   "metadata": {},
   "outputs": [
    {
     "name": "stdout",
     "output_type": "stream",
     "text": [
      "-\n",
      "Input: Tom started yelling.\n",
      "Translation: টম চেঁচানো আরম্ভ করলো।\n"
     ]
    }
   ],
   "source": [
    "i = np.random.choice(len(input_texts))\n",
    "input_seq = encoder_inputs[i:i+1]\n",
    "translation = decode_sequence(input_seq)\n",
    "print('-')\n",
    "print('Input:', input_texts[i])\n",
    "print('Translation:', translation)"
   ]
  },
  {
   "cell_type": "code",
   "execution_count": 84,
   "metadata": {},
   "outputs": [
    {
     "name": "stdout",
     "output_type": "stream",
     "text": [
      "আমার এটা আছে।\n"
     ]
    }
   ],
   "source": [
    "sentence=[\"\"]\n",
    "sequence=tokenizer_input.texts_to_sequences(sentence)\n",
    "input_seq=pad_sequences(sequence,max_len_input)\n",
    "print(decode_sequence(input_seq))"
   ]
  },
  {
   "cell_type": "code",
   "execution_count": null,
   "metadata": {},
   "outputs": [],
   "source": []
  }
 ],
 "metadata": {
  "kernelspec": {
   "display_name": "Python 3",
   "language": "python",
   "name": "python3"
  },
  "language_info": {
   "codemirror_mode": {
    "name": "ipython",
    "version": 3
   },
   "file_extension": ".py",
   "mimetype": "text/x-python",
   "name": "python",
   "nbconvert_exporter": "python",
   "pygments_lexer": "ipython3",
   "version": "3.7.3"
  }
 },
 "nbformat": 4,
 "nbformat_minor": 2
}
